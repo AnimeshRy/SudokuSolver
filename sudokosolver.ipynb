{
 "metadata": {
  "language_info": {
   "codemirror_mode": {
    "name": "ipython",
    "version": 3
   },
   "file_extension": ".py",
   "mimetype": "text/x-python",
   "name": "python",
   "nbconvert_exporter": "python",
   "pygments_lexer": "ipython3",
   "version": "3.8.2-final"
  },
  "orig_nbformat": 2,
  "kernelspec": {
   "name": "python38232bitd63be1e01fb64726ab2f6f2000905990",
   "display_name": "Python 3.8.2 32-bit"
  }
 },
 "nbformat": 4,
 "nbformat_minor": 2,
 "cells": [
  {
   "cell_type": "code",
   "execution_count": 1,
   "metadata": {
    "tags": []
   },
   "outputs": [
    {
     "output_type": "stream",
     "name": "stdout",
     "text": "| 1 | 0 | 0 | 9 | 0 | 5 | 0 | 6 | 4 |\n| 6 | 9 | 0 | 0 | 3 | 0 | 5 | 1 | 7 |\n| 2 | 7 | 5 | 0 | 6 | 1 | 0 | 3 | 9 |\n| 7 | 5 | 8 | 0 | 9 | 6 | 0 | 0 | 2 |\n| 0 | 6 | 0 | 0 | 0 | 0 | 3 | 7 | 8 |\n| 0 | 4 | 0 | 7 | 2 | 0 | 0 | 0 | 6 |\n| 0 | 1 | 0 | 2 | 0 | 0 | 6 | 0 | 0 |\n| 8 | 0 | 0 | 6 | 5 | 9 | 0 | 2 | 0 |\n| 0 | 2 | 6 | 0 | 0 | 3 | 0 | 9 | 0 |\n\nSolution \n| 1 | 8 | 3 | 9 | 7 | 5 | 2 | 6 | 4 |\n| 6 | 9 | 4 | 8 | 3 | 2 | 5 | 1 | 7 |\n| 2 | 7 | 5 | 4 | 6 | 1 | 8 | 3 | 9 |\n| 7 | 5 | 8 | 3 | 9 | 6 | 1 | 4 | 2 |\n| 9 | 6 | 2 | 5 | 1 | 4 | 3 | 7 | 8 |\n| 3 | 4 | 1 | 7 | 2 | 8 | 9 | 5 | 6 |\n| 5 | 1 | 9 | 2 | 4 | 7 | 6 | 8 | 3 |\n| 8 | 3 | 7 | 6 | 5 | 9 | 4 | 2 | 1 |\n| 4 | 2 | 6 | 1 | 8 | 3 | 7 | 9 | 5 |\n"
    }
   ],
   "source": [
    "import numpy as np\n",
    "import math\n",
    "import pprint\n",
    "\n",
    "# this algorithm is O(n) and can be improved\n",
    "\"\"\"\n",
    "The recursion in this case of backtracking algorithm can be thought of as n nested loops where in each loop the number of iterations decreases by one. Hence the time complexity is given by:\n",
    "T(N) = N*(T(N-1) + O(1))\n",
    "\n",
    "T(N) = N*(N-1)*(N-2).. = O(N!)\"\"\"\n",
    "\n",
    "\n",
    "def printGrid():\n",
    "    print(f\"| {grid[0][0]} | {grid[0][1]} | {grid[0][2]} | {grid[0][3]} | {grid[0][4]} | {grid[0][5]} | {grid[0][6]} | {grid[0][7]} | {grid[0][8]} |\")\n",
    "    print(f\"| {grid[1][0]} | {grid[1][1]} | {grid[1][2]} | {grid[1][3]} | {grid[1][4]} | {grid[1][5]} | {grid[1][6]} | {grid[1][7]} | {grid[1][8]} |\")\n",
    "    print(f\"| {grid[2][0]} | {grid[2][1]} | {grid[2][2]} | {grid[2][3]} | {grid[2][4]} | {grid[2][5]} | {grid[2][6]} | {grid[2][7]} | {grid[2][8]} |\")\n",
    "    print(f\"| {grid[3][0]} | {grid[3][1]} | {grid[3][2]} | {grid[3][3]} | {grid[3][4]} | {grid[3][5]} | {grid[3][6]} | {grid[3][7]} | {grid[3][8]} |\")\n",
    "    print(f\"| {grid[4][0]} | {grid[4][1]} | {grid[4][2]} | {grid[4][3]} | {grid[4][4]} | {grid[4][5]} | {grid[4][6]} | {grid[4][7]} | {grid[4][8]} |\")\n",
    "    print(f\"| {grid[5][0]} | {grid[5][1]} | {grid[5][2]} | {grid[5][3]} | {grid[5][4]} | {grid[5][5]} | {grid[5][6]} | {grid[5][7]} | {grid[5][8]} |\")\n",
    "    print(f\"| {grid[6][0]} | {grid[6][1]} | {grid[6][2]} | {grid[6][3]} | {grid[6][4]} | {grid[6][5]} | {grid[6][6]} | {grid[6][7]} | {grid[6][8]} |\")\n",
    "    print(f\"| {grid[7][0]} | {grid[7][1]} | {grid[7][2]} | {grid[7][3]} | {grid[7][4]} | {grid[7][5]} | {grid[7][6]} | {grid[7][7]} | {grid[7][8]} |\")\n",
    "    print(f\"| {grid[8][0]} | {grid[8][1]} | {grid[8][2]} | {grid[8][3]} | {grid[8][4]} | {grid[8][5]} | {grid[8][6]} | {grid[8][7]} | {grid[8][8]} |\")\n",
    "\n",
    "\n",
    "grid = [[1, 0, 0, 9, 0, 5, 0, 6, 4],\n",
    "        [6, 9, 0, 0, 3, 0, 5, 1, 7],\n",
    "        [2, 7, 5, 0, 6, 1, 0, 3, 9],\n",
    "        [7, 5, 8, 0, 9, 6, 0, 0, 2],\n",
    "        [0, 6, 0, 0, 0, 0, 3, 7, 8],\n",
    "        [0, 4, 0, 7, 2, 0, 0, 0, 6],\n",
    "        [0, 1, 0, 2, 0, 0, 6, 0, 0],\n",
    "        [8, 0, 0, 6, 5, 9, 0, 2, 0],\n",
    "        [0, 2, 6, 0, 0, 3, 0, 9, 0]]\n",
    "\n",
    "# grid = []\n",
    "# play = input('Wanna play then drop the grid below: ')\n",
    "# if play == 'YES' or 'yes':\n",
    "#     print('Enter the puzzle below')\n",
    "#     for i in range(9):\n",
    "#         grid.append(list(map(int, input().split())))\n",
    "# print(\"\\n User input : \")\n",
    "printGrid()\n",
    "print()\n",
    "print('Solution ')\n",
    "\n",
    "\"\"\"\n",
    "y = row x = column n = number func checks if n can be a value in the location returns true if the number can be inserted\n",
    "\"\"\"\n",
    "\n",
    "\n"
   ]
  },
  {
   "cell_type": "code",
   "execution_count": null,
   "metadata": {},
   "outputs": [],
   "source": [
    "def possible(y, x, n):\n",
    "    global grid\n",
    "    # check the row\n",
    "    for i in range(9):\n",
    "        if grid[y][i] == n:\n",
    "            return False\n",
    "    # check the column\n",
    "    for i in range(9):\n",
    "        if grid[i][x] == n:\n",
    "            return False\n",
    "    x0 = (x//3)*3\n",
    "    y0 = (y//3)*3\n",
    "    # check the 9x9 box\n",
    "    for i in range(3):\n",
    "        for j in range(3):\n",
    "            if grid[y0+i][x0+j] == n:\n",
    "                return False\n",
    "    return True\n",
    "# print(possible(4, 4, 5))"
   ]
  },
  {
   "cell_type": "code",
   "execution_count": null,
   "metadata": {},
   "outputs": [],
   "source": [
    "def solve():\n",
    "    \"\"\" First we check if there is a zero value for every element, if it comes True then we check for all possible values with a loop. If the value is possible then we simple place the value in the grid and then make a call again recursively until all the elements are done. If we can't find a solution then we place zero at the location in the grid which is what backtracing is actually. We look for the element for all possiblities and if we can't then we change the value to zero and try again until all the solutions are done \"\"\"\n",
    "    global grid\n",
    "    for y in range(9):\n",
    "        for x in range(9):\n",
    "            if grid[y][x] == 0:\n",
    "                for n in range(1, 10):\n",
    "                    if possible(y, x, n):\n",
    "                        # print(grid)\n",
    "                        grid[y][x] = n\n",
    "                        solve()\n",
    "                        grid[y][x] = 0\n",
    "                return\n",
    "    printGrid()\n",
    "    input(\"More solutions ? \""
   ]
  },
  {
   "cell_type": "code",
   "execution_count": 2,
   "metadata": {
    "tags": []
   },
   "outputs": [
    {
     "output_type": "stream",
     "name": "stdout",
     "text": "| 1 | 8 | 3 | 9 | 7 | 5 | 2 | 6 | 4 |\n| 6 | 9 | 4 | 8 | 3 | 2 | 5 | 1 | 7 |\n| 2 | 7 | 5 | 4 | 6 | 1 | 8 | 3 | 9 |\n| 7 | 5 | 8 | 3 | 9 | 6 | 1 | 4 | 2 |\n| 9 | 6 | 2 | 5 | 1 | 4 | 3 | 7 | 8 |\n| 3 | 4 | 1 | 7 | 2 | 8 | 9 | 5 | 6 |\n| 5 | 1 | 9 | 2 | 4 | 7 | 6 | 8 | 3 |\n| 8 | 3 | 7 | 6 | 5 | 9 | 4 | 2 | 1 |\n| 4 | 2 | 6 | 1 | 8 | 3 | 7 | 9 | 5 |\n"
    }
   ],
   "source": [
    "solve()"
   ]
  },
  {
   "cell_type": "code",
   "execution_count": null,
   "metadata": {},
   "outputs": [],
   "source": []
  }
 ]
}